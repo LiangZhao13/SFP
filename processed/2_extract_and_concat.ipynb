{
 "cells": [
  {
   "cell_type": "markdown",
   "metadata": {},
   "source": [
    "## AIS数据按每小时取平均，并且将所有数据合并到一个csv文件"
   ]
  },
  {
   "cell_type": "code",
   "execution_count": 1,
   "metadata": {},
   "outputs": [
    {
     "name": "stderr",
     "output_type": "stream",
     "text": [
      "/usr/local/python/3.12.1/lib/python3.12/site-packages/movingpandas/__init__.py:37: UserWarning: Missing optional dependencies. To use the trajectory smoother classes please install Stone Soup (see https://stonesoup.readthedocs.io/en/latest/#installation).\n",
      "  warnings.warn(e.msg, UserWarning)\n"
     ]
    }
   ],
   "source": [
    "import pandas as pd\n",
    "import numpy as np\n",
    "import movingpandas as mdp"
   ]
  },
  {
   "cell_type": "code",
   "execution_count": null,
   "metadata": {},
   "outputs": [
    {
     "data": {
      "text/plain": [
       "np.float64(13.920000000000002)"
      ]
     },
     "execution_count": 8,
     "metadata": {},
     "output_type": "execute_result"
    }
   ],
   "source": [
    "# 读取船的AIS数据\n",
    "shipnum = 1\n",
    "df = pd.read_csv('processed_1.csv',index_col=0)\n",
    "df['postime'] = pd.to_datetime(df['postime'],format='ISO8601')\n",
    "\n",
    "# 读取noon report，并且筛选出年月日\n",
    "df_fuel = pd.read_csv('../raw_data/mrv.csv')\n",
    "# 时间转换成datetime对象\n",
    "df_fuel['input_date'] = pd.to_datetime(df_fuel['input_date'],format='ISO8601')\n",
    "# 先观察第一艘船\n",
    "df_fuel = df_fuel[df_fuel['num'] == shipnum]\n",
    "# 筛选出一直在跑的船，这边考虑daily_voyage_time_mrv大于等于24小时的轨迹\n",
    "df_fuel = df_fuel[df_fuel['daily_voyage_time_mrv'] >= 24]\n",
    "# 删除关键字段存在空值的行，daily_fuel_mrv\n",
    "df_fuel = df_fuel.dropna(axis=0, subset = ['daily_fuel_mrv'])\n",
    "# 序号重新排列\n",
    "df_fuel = df_fuel.reset_index(drop=True)\n",
    "# 将日期全部抽取出来\n",
    "years = df_fuel['input_date'].dt.year\n",
    "months = df_fuel['input_date'].dt.month\n",
    "days = df_fuel['input_date'].dt.day\n",
    "\n",
    "\n",
    "\n",
    "for i in range(1):\n",
    "    for hours in range(1):\n",
    "        # 同一个小时的所有点\n",
    "        temp_hours = df[(df['postime'].dt.year ==years[i]) & (df['postime'].dt.month ==months[i]) & (df['postime'].dt.day ==days[i]) & (df['postime'].dt.hour == hours)]\n",
    "        avg = temp_hours[['SOG','heading','draught', 'status', 'wind_val', 'wind_direction', 'wave_val', 'wave_direction', 'stream_val', 'stream_direction']].mean()\n",
    "\n",
    "        # df_processed = pd.concat([df_processed, temp], ignore_index = True)\n",
    "\n"
   ]
  }
 ],
 "metadata": {
  "kernelspec": {
   "display_name": "Python 3",
   "language": "python",
   "name": "python3"
  },
  "language_info": {
   "codemirror_mode": {
    "name": "ipython",
    "version": 3
   },
   "file_extension": ".py",
   "mimetype": "text/x-python",
   "name": "python",
   "nbconvert_exporter": "python",
   "pygments_lexer": "ipython3",
   "version": "3.12.1"
  }
 },
 "nbformat": 4,
 "nbformat_minor": 2
}
