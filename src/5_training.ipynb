{
 "cells": [
  {
   "cell_type": "code",
   "execution_count": 13,
   "metadata": {},
   "outputs": [
    {
     "ename": "ModuleNotFoundError",
     "evalue": "No module named 'autoxgb'",
     "output_type": "error",
     "traceback": [
      "\u001b[0;31m---------------------------------------------------------------------------\u001b[0m",
      "\u001b[0;31mModuleNotFoundError\u001b[0m                       Traceback (most recent call last)",
      "Cell \u001b[0;32mIn[13], line 14\u001b[0m\n\u001b[1;32m     12\u001b[0m \u001b[38;5;28;01mfrom\u001b[39;00m \u001b[38;5;21;01msklearn\u001b[39;00m\u001b[38;5;21;01m.\u001b[39;00m\u001b[38;5;21;01mmodel_selection\u001b[39;00m \u001b[38;5;28;01mimport\u001b[39;00m GridSearchCV\n\u001b[1;32m     13\u001b[0m \u001b[38;5;28;01mfrom\u001b[39;00m \u001b[38;5;21;01msklearn\u001b[39;00m\u001b[38;5;21;01m.\u001b[39;00m\u001b[38;5;21;01mmodel_selection\u001b[39;00m \u001b[38;5;28;01mimport\u001b[39;00m ShuffleSplit\n\u001b[0;32m---> 14\u001b[0m \u001b[38;5;28;01mimport\u001b[39;00m \u001b[38;5;21;01mautoxgb\u001b[39;00m\n\u001b[1;32m     15\u001b[0m \u001b[38;5;28;01mfrom\u001b[39;00m \u001b[38;5;21;01mxgboost\u001b[39;00m \u001b[38;5;28;01mimport\u001b[39;00m plot_importance\n",
      "\u001b[0;31mModuleNotFoundError\u001b[0m: No module named 'autoxgb'"
     ]
    }
   ],
   "source": [
    "import numpy as np\n",
    "import pandas as pd\n",
    "import matplotlib.pyplot as plt\n",
    "import seaborn as sns\n",
    "import os\n",
    "\n",
    "from sklearn.model_selection import train_test_split\n",
    "from sklearn.metrics import mean_squared_error\n",
    "from sklearn.preprocessing import StandardScaler\n",
    "\n",
    "from xgboost import XGBRegressor\n",
    "from sklearn.model_selection import GridSearchCV\n",
    "from sklearn.model_selection import ShuffleSplit\n",
    "import autoxgb\n",
    "from xgboost import plot_importance\n"
   ]
  },
  {
   "cell_type": "code",
   "execution_count": 2,
   "metadata": {},
   "outputs": [],
   "source": [
    "df = pd.read_csv('../Training_data/data_13_17_1_std.csv')\n",
    "df = df.drop(['Unnamed: 0','Pe', 'R_total', 'R_calm', 'postime', 'num'], axis = 1)\n",
    "\n",
    "X = df.drop(['R_added'], axis = 1)\n",
    "Y = df[['R_added']]"
   ]
  },
  {
   "cell_type": "code",
   "execution_count": 3,
   "metadata": {},
   "outputs": [],
   "source": [
    "from sklearn.preprocessing import StandardScaler\n",
    "# 实例化\n",
    "ss = StandardScaler()\n",
    "# 特征数据\n",
    "X = ss.fit_transform(X)\n",
    "# 目标变量\n",
    "y = Y\n",
    "# 先切分数据集\n",
    "X_train, X_test, y_train, y_test = train_test_split(X, y, test_size=0.2, random_state=9)"
   ]
  },
  {
   "cell_type": "code",
   "execution_count": 8,
   "metadata": {},
   "outputs": [
    {
     "name": "stdout",
     "output_type": "stream",
     "text": [
      "Score:0.2406\n",
      "RMSE:91.4473\n"
     ]
    },
    {
     "data": {
      "text/html": [
       "<div>\n",
       "<style scoped>\n",
       "    .dataframe tbody tr th:only-of-type {\n",
       "        vertical-align: middle;\n",
       "    }\n",
       "\n",
       "    .dataframe tbody tr th {\n",
       "        vertical-align: top;\n",
       "    }\n",
       "\n",
       "    .dataframe thead th {\n",
       "        text-align: right;\n",
       "    }\n",
       "</style>\n",
       "<table border=\"1\" class=\"dataframe\">\n",
       "  <thead>\n",
       "    <tr style=\"text-align: right;\">\n",
       "      <th></th>\n",
       "      <th>test</th>\n",
       "      <th>pre</th>\n",
       "    </tr>\n",
       "  </thead>\n",
       "  <tbody>\n",
       "    <tr>\n",
       "      <th>0</th>\n",
       "      <td>378.306892</td>\n",
       "      <td>271.625320</td>\n",
       "    </tr>\n",
       "    <tr>\n",
       "      <th>1</th>\n",
       "      <td>176.369357</td>\n",
       "      <td>271.544238</td>\n",
       "    </tr>\n",
       "    <tr>\n",
       "      <th>2</th>\n",
       "      <td>286.979469</td>\n",
       "      <td>278.239184</td>\n",
       "    </tr>\n",
       "    <tr>\n",
       "      <th>3</th>\n",
       "      <td>131.249981</td>\n",
       "      <td>174.413556</td>\n",
       "    </tr>\n",
       "    <tr>\n",
       "      <th>4</th>\n",
       "      <td>209.966490</td>\n",
       "      <td>327.122933</td>\n",
       "    </tr>\n",
       "    <tr>\n",
       "      <th>...</th>\n",
       "      <td>...</td>\n",
       "      <td>...</td>\n",
       "    </tr>\n",
       "    <tr>\n",
       "      <th>5165</th>\n",
       "      <td>151.468155</td>\n",
       "      <td>239.401062</td>\n",
       "    </tr>\n",
       "    <tr>\n",
       "      <th>5166</th>\n",
       "      <td>267.033127</td>\n",
       "      <td>216.749839</td>\n",
       "    </tr>\n",
       "    <tr>\n",
       "      <th>5167</th>\n",
       "      <td>371.452145</td>\n",
       "      <td>271.467253</td>\n",
       "    </tr>\n",
       "    <tr>\n",
       "      <th>5168</th>\n",
       "      <td>228.390252</td>\n",
       "      <td>215.237580</td>\n",
       "    </tr>\n",
       "    <tr>\n",
       "      <th>5169</th>\n",
       "      <td>199.644906</td>\n",
       "      <td>294.149281</td>\n",
       "    </tr>\n",
       "  </tbody>\n",
       "</table>\n",
       "<p>5170 rows × 2 columns</p>\n",
       "</div>"
      ],
      "text/plain": [
       "            test         pre\n",
       "0     378.306892  271.625320\n",
       "1     176.369357  271.544238\n",
       "2     286.979469  278.239184\n",
       "3     131.249981  174.413556\n",
       "4     209.966490  327.122933\n",
       "...          ...         ...\n",
       "5165  151.468155  239.401062\n",
       "5166  267.033127  216.749839\n",
       "5167  371.452145  271.467253\n",
       "5168  228.390252  215.237580\n",
       "5169  199.644906  294.149281\n",
       "\n",
       "[5170 rows x 2 columns]"
      ]
     },
     "execution_count": 8,
     "metadata": {},
     "output_type": "execute_result"
    }
   ],
   "source": [
    "from sklearn.tree import DecisionTreeRegressor\n",
    "\n",
    "tr = DecisionTreeRegressor(max_depth=10)\n",
    "\n",
    "tr.fit(X_train, y_train)\n",
    "# 预测值\n",
    "tr_pre = tr.predict(X_test)\n",
    "tr_pre =tr_pre.reshape(-1,1)\n",
    "# 模型评分\n",
    "print('Score:{:.4f}'.format(tr.score(X_test, y_test)))\n",
    "# RMSE(标准误差)\n",
    "print('RMSE:{:.4f}'.format(np.sqrt(mean_squared_error(y_test,tr_pre))))\n",
    "\n",
    "test_pre = pd.DataFrame({\"test\" : y_test['R_added'].tolist(),\"pre\": tr_pre.flatten()})\n",
    "test_pre"
   ]
  },
  {
   "cell_type": "code",
   "execution_count": 9,
   "metadata": {},
   "outputs": [
    {
     "name": "stderr",
     "output_type": "stream",
     "text": [
      "/home/codespace/.local/lib/python3.12/site-packages/sklearn/utils/validation.py:1339: DataConversionWarning: A column-vector y was passed when a 1d array was expected. Please change the shape of y to (n_samples, ), for example using ravel().\n",
      "  y = column_or_1d(y, warn=True)\n"
     ]
    },
    {
     "name": "stdout",
     "output_type": "stream",
     "text": [
      "Score:0.0736\n",
      "RMSE:101.0055\n"
     ]
    }
   ],
   "source": [
    "from sklearn.svm import SVR\n",
    "\n",
    "linear_svr = SVR(kernel=\"linear\")\n",
    "linear_svr.fit(X_train, y_train)\n",
    "linear_svr_pre = linear_svr.predict(X_test)\n",
    "\n",
    "# 模型评分\n",
    "print('Score:{:.4f}'.format(linear_svr.score(X_test, y_test)))\n",
    "# RMSE(标准误差)\n",
    "print('RMSE:{:.4f}'.format(np.sqrt(mean_squared_error(y_test,linear_svr_pre))))"
   ]
  },
  {
   "cell_type": "code",
   "execution_count": 10,
   "metadata": {},
   "outputs": [
    {
     "name": "stderr",
     "output_type": "stream",
     "text": [
      "/home/codespace/.local/lib/python3.12/site-packages/sklearn/ensemble/_gb.py:668: DataConversionWarning: A column-vector y was passed when a 1d array was expected. Please change the shape of y to (n_samples, ), for example using ravel().\n",
      "  y = column_or_1d(y, warn=True)  # TODO: Is this still required?\n"
     ]
    },
    {
     "name": "stdout",
     "output_type": "stream",
     "text": [
      "Score:0.2013\n",
      "RMSE:93.7869\n"
     ]
    }
   ],
   "source": [
    "from sklearn import ensemble\n",
    "\n",
    "gb = ensemble.GradientBoostingRegressor()\n",
    "\n",
    "gb.fit(X_train, y_train)\n",
    "gb_pre=gb.predict(X_test)\n",
    "\n",
    "# 模型评分\n",
    "print('Score:{:.4f}'.format(gb.score(X_test, y_test)))\n",
    "# RMSE(标准误差)\n",
    "print('RMSE:{:.4f}'.format(np.sqrt(mean_squared_error(y_test,gb_pre))))"
   ]
  },
  {
   "cell_type": "code",
   "execution_count": 14,
   "metadata": {},
   "outputs": [
    {
     "name": "stdout",
     "output_type": "stream",
     "text": [
      "RMSE:67.7264\n"
     ]
    },
    {
     "data": {
      "text/html": [
       "<div>\n",
       "<style scoped>\n",
       "    .dataframe tbody tr th:only-of-type {\n",
       "        vertical-align: middle;\n",
       "    }\n",
       "\n",
       "    .dataframe tbody tr th {\n",
       "        vertical-align: top;\n",
       "    }\n",
       "\n",
       "    .dataframe thead th {\n",
       "        text-align: right;\n",
       "    }\n",
       "</style>\n",
       "<table border=\"1\" class=\"dataframe\">\n",
       "  <thead>\n",
       "    <tr style=\"text-align: right;\">\n",
       "      <th></th>\n",
       "      <th>test</th>\n",
       "      <th>pre</th>\n",
       "    </tr>\n",
       "  </thead>\n",
       "  <tbody>\n",
       "    <tr>\n",
       "      <th>0</th>\n",
       "      <td>378.306892</td>\n",
       "      <td>261.103302</td>\n",
       "    </tr>\n",
       "    <tr>\n",
       "      <th>1</th>\n",
       "      <td>176.369357</td>\n",
       "      <td>256.053802</td>\n",
       "    </tr>\n",
       "    <tr>\n",
       "      <th>2</th>\n",
       "      <td>286.979469</td>\n",
       "      <td>249.544113</td>\n",
       "    </tr>\n",
       "    <tr>\n",
       "      <th>3</th>\n",
       "      <td>131.249981</td>\n",
       "      <td>159.558075</td>\n",
       "    </tr>\n",
       "    <tr>\n",
       "      <th>4</th>\n",
       "      <td>209.966490</td>\n",
       "      <td>261.990417</td>\n",
       "    </tr>\n",
       "    <tr>\n",
       "      <th>...</th>\n",
       "      <td>...</td>\n",
       "      <td>...</td>\n",
       "    </tr>\n",
       "    <tr>\n",
       "      <th>5165</th>\n",
       "      <td>151.468155</td>\n",
       "      <td>190.843628</td>\n",
       "    </tr>\n",
       "    <tr>\n",
       "      <th>5166</th>\n",
       "      <td>267.033127</td>\n",
       "      <td>245.053955</td>\n",
       "    </tr>\n",
       "    <tr>\n",
       "      <th>5167</th>\n",
       "      <td>371.452145</td>\n",
       "      <td>283.883514</td>\n",
       "    </tr>\n",
       "    <tr>\n",
       "      <th>5168</th>\n",
       "      <td>228.390252</td>\n",
       "      <td>221.937103</td>\n",
       "    </tr>\n",
       "    <tr>\n",
       "      <th>5169</th>\n",
       "      <td>199.644906</td>\n",
       "      <td>247.564117</td>\n",
       "    </tr>\n",
       "  </tbody>\n",
       "</table>\n",
       "<p>5170 rows × 2 columns</p>\n",
       "</div>"
      ],
      "text/plain": [
       "            test         pre\n",
       "0     378.306892  261.103302\n",
       "1     176.369357  256.053802\n",
       "2     286.979469  249.544113\n",
       "3     131.249981  159.558075\n",
       "4     209.966490  261.990417\n",
       "...          ...         ...\n",
       "5165  151.468155  190.843628\n",
       "5166  267.033127  245.053955\n",
       "5167  371.452145  283.883514\n",
       "5168  228.390252  221.937103\n",
       "5169  199.644906  247.564117\n",
       "\n",
       "[5170 rows x 2 columns]"
      ]
     },
     "execution_count": 14,
     "metadata": {},
     "output_type": "execute_result"
    }
   ],
   "source": [
    "from xgboost import XGBRegressor\n",
    "from sklearn.model_selection import GridSearchCV\n",
    "from sklearn.model_selection import ShuffleSplit\n",
    "\n",
    "from xgboost import plot_importance\n",
    "\n",
    "xgb_model = XGBRegressor(nthread=7)\n",
    "cv_split = ShuffleSplit(n_splits=6, train_size=0.7, test_size=0.2)\n",
    "grid_params = dict(\n",
    "    max_depth = [4, 5, 6, 7],\n",
    "    learning_rate = np.linspace(0.03, 0.3, 10),\n",
    "    n_estimators = [100, 200]\n",
    ")\n",
    "grid_model = GridSearchCV(xgb_model, grid_params, cv=cv_split, scoring='neg_mean_squared_error')\n",
    "grid_model.fit(X_train, y_train)\n",
    "\n",
    "pred = grid_model.predict(X_test)\n",
    "\n",
    "print('RMSE:{:.4f}'.format(np.sqrt(mean_squared_error(y_test,pred))))\n",
    "\n",
    "test_pre = pd.DataFrame({\"test\" : y_test['R_added'].tolist(),\"pre\": pred.flatten()})\n",
    "\n",
    "test_pre"
   ]
  },
  {
   "cell_type": "markdown",
   "metadata": {},
   "source": [
    "### Use AutoXGB"
   ]
  },
  {
   "cell_type": "code",
   "execution_count": 11,
   "metadata": {},
   "outputs": [
    {
     "ename": "TypeError",
     "evalue": "'Index' object is not callable",
     "output_type": "error",
     "traceback": [
      "\u001b[0;31m---------------------------------------------------------------------------\u001b[0m",
      "\u001b[0;31mTypeError\u001b[0m                                 Traceback (most recent call last)",
      "Cell \u001b[0;32mIn[11], line 14\u001b[0m\n\u001b[1;32m     12\u001b[0m train\u001b[38;5;241m.\u001b[39mto_csv(\u001b[38;5;124m'\u001b[39m\u001b[38;5;124mtrain_auxgb.csv\u001b[39m\u001b[38;5;124m'\u001b[39m)\n\u001b[1;32m     13\u001b[0m test\u001b[38;5;241m.\u001b[39mto_csv(\u001b[38;5;124m'\u001b[39m\u001b[38;5;124mtest_auxgb.csv\u001b[39m\u001b[38;5;124m'\u001b[39m)\n\u001b[0;32m---> 14\u001b[0m \u001b[43mtrain\u001b[49m\u001b[38;5;241;43m.\u001b[39;49m\u001b[43mcolumns\u001b[49m\u001b[43m(\u001b[49m\u001b[43m)\u001b[49m\n",
      "\u001b[0;31mTypeError\u001b[0m: 'Index' object is not callable"
     ]
    }
   ],
   "source": [
    "# X_train, X_test, y_train, y_test\n",
    "\n",
    "df = pd.read_csv('../Training_data/data_13_17_1_std.csv')\n",
    "df = df.drop(['Unnamed: 0','Pe', 'R_total', 'R_calm', 'postime', 'num'], axis = 1)\n",
    "\n",
    "msk = np.random.rand(len(df)) < 0.8\n",
    "\n",
    "train = df[msk]\n",
    "\n",
    "test = df[~msk]\n",
    "\n",
    "train.to_csv('train_auxgb.csv')\n",
    "test.to_csv('test_auxgb.csv')\n",
    "\n"
   ]
  },
  {
   "cell_type": "code",
   "execution_count": 12,
   "metadata": {},
   "outputs": [
    {
     "ename": "ModuleNotFoundError",
     "evalue": "No module named 'autoxgb'",
     "output_type": "error",
     "traceback": [
      "\u001b[0;31m---------------------------------------------------------------------------\u001b[0m",
      "\u001b[0;31mModuleNotFoundError\u001b[0m                       Traceback (most recent call last)",
      "Cell \u001b[0;32mIn[12], line 1\u001b[0m\n\u001b[0;32m----> 1\u001b[0m \u001b[38;5;28;01mfrom\u001b[39;00m \u001b[38;5;21;01mautoxgb\u001b[39;00m \u001b[38;5;28;01mimport\u001b[39;00m AutoXGB\n\u001b[1;32m      4\u001b[0m \u001b[38;5;66;03m# required parameters:\u001b[39;00m\n\u001b[1;32m      5\u001b[0m train_filename \u001b[38;5;241m=\u001b[39m \u001b[38;5;124m\"\u001b[39m\u001b[38;5;124mtrain_auxgb.csv\u001b[39m\u001b[38;5;124m\"\u001b[39m\n",
      "\u001b[0;31mModuleNotFoundError\u001b[0m: No module named 'autoxgb'"
     ]
    }
   ],
   "source": [
    "from autoxgb import AutoXGB\n",
    "\n",
    "\n",
    "# required parameters:\n",
    "train_filename = \"train_auxgb.csv\"\n",
    "output = \"output\"\n",
    "\n",
    "# optional parameters\n",
    "test_filename = 'test_auxgb.csv'\n",
    "task = 'regression'\n",
    "idx = None\n",
    "targets = [\"R_added\"]\n",
    "features = None\n",
    "# categorical_features = ['SOG', 'heading', 'draught', 'wind_val', 'wind_direction', ]\n",
    "categorical_features = train.columns\n",
    "use_gpu = False\n",
    "num_folds = 5\n",
    "seed = 42\n",
    "num_trials = 100\n",
    "time_limit = 360\n",
    "fast = fast\n",
    "\n",
    "# Now its time to train the model!\n",
    "axgb = AutoXGB(\n",
    "    train_filename=train_filename,\n",
    "    output=output,\n",
    "    test_filename=test_filename,\n",
    "    task=task,\n",
    "    idx=idx,\n",
    "    targets=targets,\n",
    "    features=features,\n",
    "    categorical_features=categorical_features,\n",
    "    use_gpu=use_gpu,\n",
    "    num_folds=num_folds,\n",
    "    seed=seed,\n",
    "    num_trials=num_trials,\n",
    "    time_limit=time_limit,\n",
    "    fast=fast,\n",
    ")\n",
    "axgb.train()\n",
    "\n"
   ]
  }
 ],
 "metadata": {
  "kernelspec": {
   "display_name": "Python 3",
   "language": "python",
   "name": "python3"
  },
  "language_info": {
   "codemirror_mode": {
    "name": "ipython",
    "version": 3
   },
   "file_extension": ".py",
   "mimetype": "text/x-python",
   "name": "python",
   "nbconvert_exporter": "python",
   "pygments_lexer": "ipython3",
   "version": "3.12.1"
  }
 },
 "nbformat": 4,
 "nbformat_minor": 2
}
