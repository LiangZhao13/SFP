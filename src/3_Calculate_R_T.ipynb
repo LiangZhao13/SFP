{
 "cells": [
  {
   "cell_type": "markdown",
   "metadata": {},
   "source": [
    "## 通过能耗数据反算总阻力RT"
   ]
  },
  {
   "cell_type": "code",
   "execution_count": null,
   "metadata": {},
   "outputs": [],
   "source": [
    "# 定义\n",
    "eta_r = 0 # relative rotative efficiency\n",
    "eta_s = 0 # shaft efficiency,\n",
    "eta_h = 0 # hull efficiency\n",
    "eta_o = 0 # open water efficiency\n",
    "\n",
    "# 燃料计算公式\n",
    "fuel = p_b * SOFC * T\n",
    "\n",
    "# 燃料反算engine brake power p_b\n",
    "p_b = fuel/T/SOFC\n",
    "\n",
    "# engine brake power反算effective power p_e\n",
    "p_e = p_b * (eta_s*eta_h*eta_r*eta_o)\n",
    "\n",
    "# p_e反算R_T\n",
    "R_T = p_e/V\n"
   ]
  },
  {
   "cell_type": "markdown",
   "metadata": {},
   "source": [
    "relative rotative efficiency \\eta_R的计算公式：\n",
    "\n",
    "$$\n",
    "\\eta_R = 0.9922 - 0.05908 \\frac{A_E}{A_O} + 0.07424 (C_p - 0.0225 \\, lcb)\n",
    "$$\n",
    "\n",
    "### 含义解释\n",
    "2. **\\( A_E / A_O \\)**（叶片面积比，Expanded Area Ratio），用下面公式计算：  \n",
    "   表示螺旋桨叶片展开面积（\\( A_E \\)）与螺旋桨圆盘面积（\\( A_O \\)）的比值。此参数反映了螺旋桨叶片的覆盖程度，影响推进效率和阻力。\n",
    "\n",
    "3. **\\( C_p \\)**（棱柱系数，Prismatic Coefficient），需要获取：  \n",
    "   表示船体水下体积与棱柱体积（基于船体水线长度和最大横剖面面积）的比值，是船体几何特性的一个重要参数。\n",
    "\n",
    "4. **\\( lcb \\)**（纵向浮心位置，Longitudinal Center of Buoyancy），需要获取：  \n",
    "   表示浮心（船体水下部分的浮力中心）相对于船体水线长度的纵向位置，通常以 \\( L \\) 的百分比表示。此参数反映船体的重量分布。\n",
    "\n",
    "\n",
    "\\( A_E / A_O \\)计算公式如下：\n",
    "\n",
    "$$\n",
    "\\frac{A_E}{A_O} = K + (1.3 + 0.3Z) \\frac{T}{D^2 (p_o + \\rho g h - p_v)}\n",
    "$$\n",
    "\n",
    "### 说明\n",
    "\n",
    "1. **变量：**\n",
    "   - \\( K \\)：常数，与螺旋桨类型有关：\n",
    "     - 对于双螺旋桨船（twin-screw ships），\\( K = 0 \\) 到 \\( 0.1 \\)；\n",
    "     - 对于单螺旋桨船（single-screw ships），\\( K = 0.2 \\)。\n",
    "   - \\( Z \\)：螺旋桨叶片数量，需要获取。\n",
    "   - \\( T \\)：螺旋桨推力（Propeller Thrust），需要获取。\n",
    "   - \\( D \\)：螺旋桨直径（Diameter of the Propeller），需要获取。\n",
    "   - 对于海水温度为 15 摄氏度时，已知值为 \\( p_o - p_v = 99047 \\, \\text{N/m}^2 \\)，可以估算。\n",
    "   - \\( \\rho g h \\)：由海水深度 \\( h \\) 引起的流体静压，\\( \\rho \\) 为海水密度，\\( g \\) 为重力加速度，可以估算。\n",
    "\n",
    "\n",
    "\n"
   ]
  },
  {
   "cell_type": "markdown",
   "metadata": {},
   "source": []
  }
 ],
 "metadata": {
  "language_info": {
   "name": "python"
  }
 },
 "nbformat": 4,
 "nbformat_minor": 2
}
