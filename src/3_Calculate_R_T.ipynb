{
 "cells": [
  {
   "cell_type": "markdown",
   "metadata": {},
   "source": [
    "## 通过能耗数据反算总阻力RT"
   ]
  },
  {
   "cell_type": "code",
   "execution_count": 16,
   "metadata": {},
   "outputs": [],
   "source": [
    "import pandas as pd\n",
    "import numpy as np\n",
    "import matplotlib.pyplot as plt\n",
    "# from class_total_resistance_estimatoin import *\n",
    "from class_calm_water_resistance_estimatoin import *"
   ]
  },
  {
   "cell_type": "markdown",
   "metadata": {},
   "source": [
    "### 先计算功率"
   ]
  },
  {
   "cell_type": "code",
   "execution_count": null,
   "metadata": {},
   "outputs": [],
   "source": [
    "# 先计算P effective\n",
    "# \n",
    "# # 定义\n",
    "# etaR = 1.0 # 准确计算较复杂，但整体波动小，经验值是1-1.07或者0.98\n",
    "# etaO = 0.60 # 可以算，但需要知道V_A和thruster force T的具体意义，经验值0.55-0.7\n",
    "# etaS = 0.99 # 无计算公式，取经验值，0.99，0.98，0.95-0.96三种情况\n",
    "# etaH = 1.1 # 要计算t, w，1-t/1-w,需要知道力和速度的关系。\n",
    "# SOFC = 200 # g/kwh\n",
    "# eta = etaR*etaO*etaS*etaH\n",
    "\n",
    "# # 求P_effective\n",
    "# df_fuel = pd.read_csv('/content/Ship-fuel-prediction/raw_data/mrv.csv')\n",
    "# df_fuel['input_date'] = pd.to_datetime(df_fuel['input_date'],format='ISO8601')\n",
    "# df_fuel = df_fuel[df_fuel['daily_voyage_time_mrv'] >= 24]\n",
    "# df_fuel = df_fuel.dropna(axis=0, subset = ['daily_fuel_mrv'])\n",
    "# df_fuel = df_fuel.reset_index(drop=True)\n",
    "# df_fuel = df_fuel.drop(4747)\n",
    "# df_fuel = df_fuel.reset_index(drop=True)\n",
    "# years = df_fuel['input_date'].dt.year\n",
    "# months = df_fuel['input_date'].dt.month\n",
    "# days = df_fuel['input_date'].dt.day\n",
    "# df_fuel['daily_fuel_mrv'] = df_fuel['daily_fuel_mrv']*1000/24/SOFC*1000 # 一天的油耗(吨)乘10的3次方变为kg，转化成每个小时消耗,kg/h，再根据原公式除以(SOFC*10-3)获得功率，单位千瓦\n",
    "# df_fuel['daily_fuel_mrv'] = df_fuel['daily_fuel_mrv']*eta # 计算P effective 单位千瓦\n",
    "# df_fuel = df_fuel.rename(columns = {'daily_fuel_mrv': 'P_e'})\n",
    "# df_fuel.to_csv('/content/Ship-fuel-prediction/processed/mrv_P_effective.csv')"
   ]
  },
  {
   "cell_type": "markdown",
   "metadata": {},
   "source": [
    "<!-- # 求P_effective\n",
    "# 定义\n",
    "etaR = 1.0 # 准确计算较复杂，但整体波动小，经验值是1-1.07或者0.98\n",
    "etaO = 0.60 # 可以算，但需要知道V_A和thruster force T的具体意义，经验值0.55-0.7\n",
    "etaS = 0.99 # 无计算公式，取经验值，0.99，0.98，0.95-0.96三种情况\n",
    "etaH = 1.1 # 要计算t, w，1-t/1-w,需要知道力和速度的关系。\n",
    "SOFC = 200 # g/kwh\n",
    "eta = etaR*etaO*etaS*etaH\n",
    "\n",
    "# 求P_effective\n",
    "df_fuel = pd.read_csv('/raw_data/mrv.csv')\n",
    "df_fuel['input_date'] = pd.to_datetime(df_fuel['input_date'],format='ISO8601')\n",
    "df_fuel = df_fuel[df_fuel['daily_voyage_time_mrv'] >= 24]\n",
    "df_fuel = df_fuel.dropna(axis=0, subset = ['daily_fuel_mrv'])\n",
    "df_fuel = df_fuel.reset_index(drop=True)\n",
    "df_fuel = df_fuel.drop(4747) # 这一行重复了\n",
    "df_fuel = df_fuel.reset_index(drop=True)\n",
    "years = df_fuel['input_date'].dt.year\n",
    "months = df_fuel['input_date'].dt.month\n",
    "days = df_fuel['input_date'].dt.day\n",
    "df_fuel['daily_fuel_mrv'] = df_fuel['daily_fuel_mrv']*1000/24/SOFC*1000 # 一天的油耗(吨)乘10的3次方变为kg，转化成每个小时消耗,kg/h，再根据原公式除以(SOFC*10-3)获得功率，单位千瓦\n",
    "df_fuel['daily_fuel_mrv'] = df_fuel['daily_fuel_mrv']*eta # 计算P effective 单位千瓦\n",
    "df_fuel = df_fuel.rename(columns = {'daily_fuel_mrv': 'P_e'})\n",
    "df_fuel.to_csv('/content/Ship-fuel-prediction/processed/mrv_P_effective.csv') -->"
   ]
  },
  {
   "cell_type": "code",
   "execution_count": null,
   "metadata": {},
   "outputs": [],
   "source": [
    "# # 此时还需要知道速度才能求Rtotal,先和AIS数据合并\n",
    "# df_ais = pd.read_csv('/processed/AIS_hour.csv')\n",
    "# df_ais = df_ais.drop(\"Unnamed: 0\", axis=1)\n",
    "# df_ais['postime'] = pd.to_datetime(df_ais['postime'],format='ISO8601')\n",
    "\n",
    "# years = df_ais['postime'].dt.year\n",
    "# months = df_ais['postime'].dt.month\n",
    "# days = df_ais['postime'].dt.day\n",
    "# num = df_ais['num']\n",
    "# for i in range(df_ais.shape[0]):\n",
    "#   temp = df_fuel[(df_fuel['input_date'].dt.year == years[i]) & (df_fuel['input_date'].dt.month == months[i]) & (df_fuel['input_date'].dt.day == days[i]) & (df_fuel['num'] == num[i])]\n",
    "#   pe = temp['P_e']\n",
    "#   if not pe.empty:\n",
    "#     df_ais.loc[i, 'Pe'] = pe.values\n",
    "#   else:\n",
    "#     df_ais.loc[i, 'Pe'] = np.nan\n",
    "\n",
    "# df_ais.to_csv('/processed/AIS_hour_with_P.csv')"
   ]
  },
  {
   "cell_type": "markdown",
   "metadata": {},
   "source": [
    "### 计算阻力R_total"
   ]
  },
  {
   "cell_type": "code",
   "execution_count": 11,
   "metadata": {},
   "outputs": [
    {
     "name": "stderr",
     "output_type": "stream",
     "text": [
      "/tmp/ipykernel_31352/1231628452.py:19: RuntimeWarning: divide by zero encountered in scalar divide\n",
      "  r_total = Pe/V_water\n"
     ]
    }
   ],
   "source": [
    "# 计算Rtotal\n",
    "\n",
    "df_ais = pd.read_csv('../processed/AIS_hour_with_P.csv')\n",
    "df_ais = df_ais.drop(\"Unnamed: 0\", axis=1)\n",
    "\n",
    "def Pe2Rtotal(row):\n",
    "    \"\"\"\"\n",
    "\n",
    "    每一行反算R_total函数\n",
    "\n",
    "    \n",
    "    \"\"\"\n",
    "    cu = row['stream_val']*np.sin(np.deg2rad(row['stream_direction']))\n",
    "    cv = row['stream_val']*np.cos(np.deg2rad(row['stream_direction']))\n",
    "    sog = row['SOG']*0.5144 # knot to m/s\n",
    "    Pe = row['Pe']\n",
    "    heading_ship = row['heading']\n",
    "    V_water = speedGPS2Water(sog, heading_ship, cu, cv) \n",
    "    r_total = Pe/V_water\n",
    "\n",
    "    return r_total # 单位千牛\n",
    "    \n",
    "df_ais['R_total'] = df_ais.apply(Pe2Rtotal, axis=1)\n",
    "df_ais.to_csv('../processed/AIS_hour_with_R_total.csv')"
   ]
  },
  {
   "cell_type": "markdown",
   "metadata": {},
   "source": [
    "### 计算静水阻力R_calm"
   ]
  },
  {
   "cell_type": "code",
   "execution_count": null,
   "metadata": {},
   "outputs": [
    {
     "name": "stderr",
     "output_type": "stream",
     "text": [
      "/workspaces/Ship-fuel-prediction/src/class_calm_water_resistance_estimatoin.py:153: RuntimeWarning: invalid value encountered in log10\n",
      "  c_f = 0.075 / pow((np.log10(re_v) - 2), 2.0)\n",
      "/workspaces/Ship-fuel-prediction/src/class_calm_water_resistance_estimatoin.py:197: RuntimeWarning: invalid value encountered in scalar power\n",
      "  r_w = h.c1 * h.c2 * h.c5 * ship.Vol * rho_sw * ship.g * np.exp(h.m1 * pow(fn, h.d) + m2 * np.cos(h.lamda * pow(fn, -2.)))\n",
      "/workspaces/Ship-fuel-prediction/src/class_calm_water_resistance_estimatoin.py:153: RuntimeWarning: divide by zero encountered in log10\n",
      "  c_f = 0.075 / pow((np.log10(re_v) - 2), 2.0)\n",
      "/workspaces/Ship-fuel-prediction/src/class_calm_water_resistance_estimatoin.py:195: RuntimeWarning: divide by zero encountered in scalar power\n",
      "  m2 = h.c15 * ship.Cp * ship.Cp * np.exp(-0.1 * pow(fn, -2.))\n",
      "/workspaces/Ship-fuel-prediction/src/class_calm_water_resistance_estimatoin.py:197: RuntimeWarning: divide by zero encountered in scalar power\n",
      "  r_w = h.c1 * h.c2 * h.c5 * ship.Vol * rho_sw * ship.g * np.exp(h.m1 * pow(fn, h.d) + m2 * np.cos(h.lamda * pow(fn, -2.)))\n",
      "/workspaces/Ship-fuel-prediction/src/class_calm_water_resistance_estimatoin.py:197: RuntimeWarning: invalid value encountered in cos\n",
      "  r_w = h.c1 * h.c2 * h.c5 * ship.Vol * rho_sw * ship.g * np.exp(h.m1 * pow(fn, h.d) + m2 * np.cos(h.lamda * pow(fn, -2.)))\n"
     ]
    }
   ],
   "source": [
    "df_ais = pd.read_csv('../processed/AIS_hour_with_R_total.csv')\n",
    "df_ais = df_ais.drop(\"Unnamed: 0\", axis=1)\n",
    "\n",
    "def Cal_R_calm(row):\n",
    "    heading_ship = row['heading']\n",
    "    cu = row['stream_val']*np.sin(np.deg2rad(row['stream_direction']))\n",
    "    cv = row['stream_val']*np.cos(np.deg2rad(row['stream_direction']))\n",
    "    sog = row['SOG']*0.5144\n",
    "\n",
    "    V_water = speedGPS2Water(sog, heading_ship, cu, cv)\n",
    "    V_shallow=V_water\n",
    "    r_calm = calm_water_resistance(V_shallow)\n",
    "\n",
    "    return r_calm/1000\n",
    "\n",
    "df_ais['R_calm'] = df_ais.apply(Cal_R_calm, axis=1) # KN\n",
    "\n",
    "df_processed = df_ais[df_ais['R_total']>df_ais['R_calm']]"
   ]
  },
  {
   "cell_type": "code",
   "execution_count": 32,
   "metadata": {},
   "outputs": [],
   "source": [
    "df_processed = df_processed.reset_index(drop=True)\n",
    "\n",
    "# 计算R_added\n",
    "def Cal_R_added(row):\n",
    "    R_total = row['R_total']\n",
    "    R_calm = row['R_calm']\n",
    "    R_added = R_total - R_calm\n",
    "    return R_added\n",
    "\n",
    "\n",
    "df_processed['R_added'] = df_processed.apply(Cal_R_added, axis=1) # KN\n",
    "df_processed.to_csv('AIS_hour_R_added.csv')"
   ]
  },
  {
   "cell_type": "code",
   "execution_count": 44,
   "metadata": {},
   "outputs": [
    {
     "data": {
      "text/plain": [
       "<Axes: >"
      ]
     },
     "execution_count": 44,
     "metadata": {},
     "output_type": "execute_result"
    },
    {
     "data": {
      "image/png": "[encoded data removed]",
      "text/plain": [
       "<Figure size 640x480 with 1 Axes>"
      ]
     },
     "metadata": {},
     "output_type": "display_data"
    }
   ],
   "source": [
    "df_processed.SOG.hist()"
   ]
  },
  {
   "cell_type": "code",
   "execution_count": 42,
   "metadata": {},
   "outputs": [
    {
     "data": {
      "text/plain": [
       "<Axes: xlabel='SOG'>"
      ]
     },
     "execution_count": 42,
     "metadata": {},
     "output_type": "execute_result"
    },
    {
     "data": {
      "image/png": "[encoded data removed]",
      "text/plain": [
       "<Figure size 900x800 with 1 Axes>"
      ]
     },
     "metadata": {},
     "output_type": "display_data"
    }
   ],
   "source": [
    "sample = df_processed.sample(n=15)\n",
    "sample = sample.sort_values(by = 'SOG',axis = 0,ascending = True)\n",
    "\n",
    "sample.plot(x=\"SOG\", y=[\"R_added\"], kind=\"bar\", figsize=(9, 8))\n"
   ]
  },
  {
   "cell_type": "code",
   "execution_count": 27,
   "metadata": {},
   "outputs": [
    {
     "data": {
      "text/html": [
       "<div>\n",
       "<style scoped>\n",
       "    .dataframe tbody tr th:only-of-type {\n",
       "        vertical-align: middle;\n",
       "    }\n",
       "\n",
       "    .dataframe tbody tr th {\n",
       "        vertical-align: top;\n",
       "    }\n",
       "\n",
       "    .dataframe thead th {\n",
       "        text-align: right;\n",
       "    }\n",
       "</style>\n",
       "<table border=\"1\" class=\"dataframe\">\n",
       "  <thead>\n",
       "    <tr style=\"text-align: right;\">\n",
       "      <th></th>\n",
       "      <th>input_date</th>\n",
       "      <th>daily_dist_mrv</th>\n",
       "      <th>daily_voyage_time_mrv</th>\n",
       "      <th>daily_speed_mrv</th>\n",
       "      <th>daily_fuel_mrv</th>\n",
       "      <th>num</th>\n",
       "    </tr>\n",
       "  </thead>\n",
       "  <tbody>\n",
       "    <tr>\n",
       "      <th>0</th>\n",
       "      <td>2021-01-02 04:00:00+00:00</td>\n",
       "      <td>169.0</td>\n",
       "      <td>13.0</td>\n",
       "      <td>13.00</td>\n",
       "      <td>41.39</td>\n",
       "      <td>1</td>\n",
       "    </tr>\n",
       "    <tr>\n",
       "      <th>1</th>\n",
       "      <td>2021-01-03 04:00:00+00:00</td>\n",
       "      <td>128.0</td>\n",
       "      <td>9.4</td>\n",
       "      <td>13.62</td>\n",
       "      <td>34.59</td>\n",
       "      <td>1</td>\n",
       "    </tr>\n",
       "    <tr>\n",
       "      <th>2</th>\n",
       "      <td>2021-01-04 04:00:00+00:00</td>\n",
       "      <td>335.0</td>\n",
       "      <td>24.0</td>\n",
       "      <td>13.96</td>\n",
       "      <td>71.40</td>\n",
       "      <td>1</td>\n",
       "    </tr>\n",
       "    <tr>\n",
       "      <th>3</th>\n",
       "      <td>2021-01-05 04:00:00+00:00</td>\n",
       "      <td>311.0</td>\n",
       "      <td>24.0</td>\n",
       "      <td>12.96</td>\n",
       "      <td>71.83</td>\n",
       "      <td>1</td>\n",
       "    </tr>\n",
       "    <tr>\n",
       "      <th>4</th>\n",
       "      <td>2021-01-06 04:00:00+00:00</td>\n",
       "      <td>335.0</td>\n",
       "      <td>24.0</td>\n",
       "      <td>13.96</td>\n",
       "      <td>70.86</td>\n",
       "      <td>1</td>\n",
       "    </tr>\n",
       "    <tr>\n",
       "      <th>...</th>\n",
       "      <td>...</td>\n",
       "      <td>...</td>\n",
       "      <td>...</td>\n",
       "      <td>...</td>\n",
       "      <td>...</td>\n",
       "      <td>...</td>\n",
       "    </tr>\n",
       "    <tr>\n",
       "      <th>18351</th>\n",
       "      <td>2024-11-26 04:00:00+00:00</td>\n",
       "      <td>238.0</td>\n",
       "      <td>20.8</td>\n",
       "      <td>11.44</td>\n",
       "      <td>37.95</td>\n",
       "      <td>13</td>\n",
       "    </tr>\n",
       "    <tr>\n",
       "      <th>18352</th>\n",
       "      <td>2024-11-27 04:00:00+00:00</td>\n",
       "      <td>85.0</td>\n",
       "      <td>6.5</td>\n",
       "      <td>13.08</td>\n",
       "      <td>26.34</td>\n",
       "      <td>13</td>\n",
       "    </tr>\n",
       "    <tr>\n",
       "      <th>18353</th>\n",
       "      <td>2024-11-28 04:00:00+00:00</td>\n",
       "      <td>363.0</td>\n",
       "      <td>24.0</td>\n",
       "      <td>15.13</td>\n",
       "      <td>77.24</td>\n",
       "      <td>13</td>\n",
       "    </tr>\n",
       "    <tr>\n",
       "      <th>18354</th>\n",
       "      <td>2024-11-29 04:00:00+00:00</td>\n",
       "      <td>91.0</td>\n",
       "      <td>8.1</td>\n",
       "      <td>11.23</td>\n",
       "      <td>25.89</td>\n",
       "      <td>13</td>\n",
       "    </tr>\n",
       "    <tr>\n",
       "      <th>18355</th>\n",
       "      <td>2024-11-30 04:00:00+00:00</td>\n",
       "      <td>409.0</td>\n",
       "      <td>24.0</td>\n",
       "      <td>17.04</td>\n",
       "      <td>88.06</td>\n",
       "      <td>13</td>\n",
       "    </tr>\n",
       "  </tbody>\n",
       "</table>\n",
       "<p>18356 rows × 6 columns</p>\n",
       "</div>"
      ],
      "text/plain": [
       "                      input_date  daily_dist_mrv  daily_voyage_time_mrv  \\\n",
       "0      2021-01-02 04:00:00+00:00           169.0                   13.0   \n",
       "1      2021-01-03 04:00:00+00:00           128.0                    9.4   \n",
       "2      2021-01-04 04:00:00+00:00           335.0                   24.0   \n",
       "3      2021-01-05 04:00:00+00:00           311.0                   24.0   \n",
       "4      2021-01-06 04:00:00+00:00           335.0                   24.0   \n",
       "...                          ...             ...                    ...   \n",
       "18351  2024-11-26 04:00:00+00:00           238.0                   20.8   \n",
       "18352  2024-11-27 04:00:00+00:00            85.0                    6.5   \n",
       "18353  2024-11-28 04:00:00+00:00           363.0                   24.0   \n",
       "18354  2024-11-29 04:00:00+00:00            91.0                    8.1   \n",
       "18355  2024-11-30 04:00:00+00:00           409.0                   24.0   \n",
       "\n",
       "       daily_speed_mrv  daily_fuel_mrv  num  \n",
       "0                13.00           41.39    1  \n",
       "1                13.62           34.59    1  \n",
       "2                13.96           71.40    1  \n",
       "3                12.96           71.83    1  \n",
       "4                13.96           70.86    1  \n",
       "...                ...             ...  ...  \n",
       "18351            11.44           37.95   13  \n",
       "18352            13.08           26.34   13  \n",
       "18353            15.13           77.24   13  \n",
       "18354            11.23           25.89   13  \n",
       "18355            17.04           88.06   13  \n",
       "\n",
       "[18356 rows x 6 columns]"
      ]
     },
     "execution_count": 27,
     "metadata": {},
     "output_type": "execute_result"
    }
   ],
   "source": [
    "df_fuel = pd.read_csv('../raw_data/mrv.csv')\n",
    "df_fuel"
   ]
  }
 ],
 "metadata": {
  "kernelspec": {
   "display_name": "Python 3",
   "language": "python",
   "name": "python3"
  },
  "language_info": {
   "codemirror_mode": {
    "name": "ipython",
    "version": 3
   },
   "file_extension": ".py",
   "mimetype": "text/x-python",
   "name": "python",
   "nbconvert_exporter": "python",
   "pygments_lexer": "ipython3",
   "version": "3.12.1"
  }
 },
 "nbformat": 4,
 "nbformat_minor": 2
}
