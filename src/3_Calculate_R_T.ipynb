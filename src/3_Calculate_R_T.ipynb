{
 "cells": [
  {
   "cell_type": "markdown",
   "metadata": {},
   "source": [
    "## 通过能耗数据反算总阻力RT"
   ]
  },
  {
   "cell_type": "code",
   "execution_count": null,
   "metadata": {},
   "outputs": [],
   "source": [
    "import pandas as pd\n",
    "import numpy as np\n",
    "import matplotlib.pyplot as plt"
   ]
  },
  {
   "cell_type": "markdown",
   "metadata": {},
   "source": [
    "# 定义\n",
    "etaR = 1.0 # 准确计算较复杂，但整体波动小，经验值是1-1.07或者0.98\n",
    "etaO = 0.60 # 可以算，但需要知道V_A和thruster force T的具体意义，经验值0.55-0.7\n",
    "etaS = 0.99 # 无计算公式，取经验值，0.99，0.98，0.95-0.96三种情况\n",
    "etaH = 1.1 # 要计算t, w，1-t/1-w,需要知道力和速度的关系。\n",
    "SOFC = 200 # g/kwh\n",
    "eta = etaR*etaO*etaS*etaH\n",
    "\n",
    "# 求P_effective\n",
    "df_fuel = pd.read_csv('/raw_data/mrv.csv')\n",
    "df_fuel['input_date'] = pd.to_datetime(df_fuel['input_date'],format='ISO8601')\n",
    "df_fuel = df_fuel[df_fuel['daily_voyage_time_mrv'] >= 24]\n",
    "df_fuel = df_fuel.dropna(axis=0, subset = ['daily_fuel_mrv'])\n",
    "df_fuel = df_fuel.reset_index(drop=True)\n",
    "df_fuel = df_fuel.drop(4747)\n",
    "df_fuel = df_fuel.reset_index(drop=True)\n",
    "years = df_fuel['input_date'].dt.year\n",
    "months = df_fuel['input_date'].dt.month\n",
    "days = df_fuel['input_date'].dt.day\n",
    "df_fuel['daily_fuel_mrv'] = df_fuel['daily_fuel_mrv']*1000/24/SOFC*1000 # 一天的油耗(吨)乘10的3次方变为kg，转化成每个小时消耗,kg/h，再根据原公式除以(SOFC*10-3)获得功率，单位千瓦\n",
    "df_fuel['daily_fuel_mrv'] = df_fuel['daily_fuel_mrv']*eta # 计算P effective 单位千瓦\n",
    "df_fuel = df_fuel.rename(columns = {'daily_fuel_mrv': 'P_e'})\n",
    "df_fuel.to_csv('/content/Ship-fuel-prediction/processed/mrv_P_effective.csv')"
   ]
  },
  {
   "cell_type": "code",
   "execution_count": null,
   "metadata": {},
   "outputs": [],
   "source": [
    "# 此时还需要知道速度才能求Rtotal,先和AIS数据合并\n",
    "df_ais = pd.read_csv('/processed/AIS_hour.csv')\n",
    "df_ais = df_ais.drop(\"Unnamed: 0\", axis=1)\n",
    "df_ais['postime'] = pd.to_datetime(df_ais['postime'],format='ISO8601')\n",
    "\n",
    "years = df_ais['postime'].dt.year\n",
    "months = df_ais['postime'].dt.month\n",
    "days = df_ais['postime'].dt.day\n",
    "num = df_ais['num']\n",
    "for i in range(df_ais.shape[0]):\n",
    "  temp = df_fuel[(df_fuel['input_date'].dt.year == years[i]) & (df_fuel['input_date'].dt.month == months[i]) & (df_fuel['input_date'].dt.day == days[i]) & (df_fuel['num'] == num[i])]\n",
    "  pe = temp['P_e']\n",
    "  if not pe.empty:\n",
    "    df_ais.loc[i, 'Pe'] = pe.values\n",
    "  else:\n",
    "    df_ais.loc[i, 'Pe'] = np.nan\n",
    "\n",
    "df_ais"
   ]
  }
 ],
 "metadata": {
  "language_info": {
   "name": "python"
  }
 },
 "nbformat": 4,
 "nbformat_minor": 2
}
